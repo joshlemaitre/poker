{
 "cells": [
  {
   "cell_type": "code",
   "execution_count": 307,
   "metadata": {
    "collapsed": false
   },
   "outputs": [],
   "source": [
    "import random\n",
    "from collections import Counter\n",
    "import numpy\n",
    "import pandas as pd\n",
    "\n",
    "class Card(dict):\n",
    "    def __init__(self, suit, value):\n",
    "        self['suit'] = suit\n",
    "        self['value'] = value\n",
    "        self.suit = suit\n",
    "        self.value = value\n",
    "        \n",
    "        \n",
    "class Deck:\n",
    "    def __init__(self):\n",
    "        suits = \"SHDC\"\n",
    "        values = ['01','02','03','04','05','06','07','08','09','10','11','12','13']\n",
    "        self.cards = []\n",
    "        for suit in suits:\n",
    "            for value in values:\n",
    "                self.cards.append(Card(suit, value))\n",
    "\n",
    "    def shuffle(self):\n",
    "        random.shuffle(self.cards)\n",
    "    \n",
    "    def cut(self):\n",
    "        n = int(random.triangular(1,51))\n",
    "        self.cards = self.cards[n:] + self.cards[:n]\n",
    "    \n",
    "    def deal(self, n):\n",
    "        cards = self.cards[:n]\n",
    "        self.cards = self.cards[n:]\n",
    "        return cards\n",
    "\n",
    "class Hand:\n",
    "    def __init__(self):\n",
    "        self.cards = []\n",
    "        self.community = []\n",
    "        self.multiples = {}\n",
    "        self.flush = False\n",
    "        self.straight = False\n",
    "        self.straight_flush = False\n",
    "        self.royal_flush = False\n",
    "        self.full_house = False\n",
    "        self.pair = False\n",
    "        self.two_pair = False\n",
    "        self.three = False\n",
    "        self.four = False\n",
    "        self.deck = None\n",
    "        self.best = None\n",
    "        \n",
    "    def add_cards(self, cards=None, deck=None, shuffle=True, cut=True, n=1):\n",
    "        if deck is None:\n",
    "            self.cards = self.cards + cards\n",
    "        else:\n",
    "            if shuffle:\n",
    "                deck.shuffle()\n",
    "            if cut:\n",
    "                deck.cut()\n",
    "            self.cards = self.cards + deck.deal(n)\n",
    "    \n",
    "    def update_community(self, community):\n",
    "        if community:\n",
    "            self.community = community\n",
    "            self.cards = list(set(self.cards.append(community)))\n",
    "        \n",
    "    def evaluate(self):\n",
    "        def set_multiples(self):\n",
    "            val_counts = Counter([card.value for card in self.cards])\n",
    "            for key, value in val_counts.items():\n",
    "                if value in self.multiples.keys():\n",
    "                    self.multiples[value].append(key)\n",
    "                else:\n",
    "                    self.multiples[value] = [key]\n",
    "            if 2 in self.multiples.keys():\n",
    "                self.pair = True\n",
    "                if len(self.multiples[2]) > 1:\n",
    "                    self.two_pair = True\n",
    "            if 3 in self.multiples.keys():\n",
    "                self.three = True\n",
    "            if 4 in self.multiples.keys():\n",
    "                self.four = True\n",
    "            \n",
    "\n",
    "        def set_flush(self):\n",
    "            suit_counts = Counter([card.suit for card in self.cards])\n",
    "            if max(suit_counts.values()) >= 5:\n",
    "                self.flush = True\n",
    "\n",
    "        def set_straight(self):\n",
    "            values = list(set([card.value for card in self.cards]))\n",
    "            values = sorted(values)\n",
    "            s = ''.join(values)\n",
    "            straight_string = '0102030405060708091011121301'\n",
    "            substr = compareTwoStrings(s, straight_string)\n",
    "            if len(substr) >= 10:\n",
    "                self.straight = True\n",
    "\n",
    "        def set_full_house(self):\n",
    "            if 3 in self.multiples.keys():\n",
    "                if 2 in self.multiples.keys():\n",
    "                    self.full_house = True\n",
    "                if len(self.multiples[3]) > 1:\n",
    "                    self.full_house = True\n",
    "            elif 4 in self.multiples.keys():\n",
    "                if 2 in self.multiples.keys():\n",
    "                    self.full_house = True\n",
    "                if 3 in self.multiples.keys():\n",
    "                    self.full_house = True\n",
    "            else:\n",
    "                self.full_house = False\n",
    "\n",
    "        def set_straight_flush(self):\n",
    "            if self.straight:\n",
    "                if self.flush:\n",
    "                    suit_counts = Counter([card.suit for card in self.cards])\n",
    "                    flush_suit = [k for k,v in suit_counts.items() if v >= 5][0]\n",
    "                    flush_cards = [card.value for card in self.cards if card.suit == flush_suit]\n",
    "                    flush_cards = sorted(flush_cards)\n",
    "                    if '01' in flush_cards:\n",
    "                        flush_cards = flush_cards + ['01']\n",
    "                    s = ''.join(flush_cards)\n",
    "                    straight_string = '0102030405060708091011121301'\n",
    "                    substr = compareTwoStrings(s, straight_string)\n",
    "                    if substr == '1011121301':\n",
    "                        self.royal_flush = True\n",
    "                    else:\n",
    "                        if len(substr) >= 10:\n",
    "                            self.straight_flush = True\n",
    "        \n",
    "\n",
    "        set_multiples(self)\n",
    "        set_flush(self)\n",
    "        set_straight(self)\n",
    "        set_straight_flush(self)\n",
    "        set_full_house(self)\n",
    "        if self.royal_flush:\n",
    "            self.best = '01:royal flush'\n",
    "        elif self.straight_flush:\n",
    "            self.best = '02:straight flush'\n",
    "        elif self.four:\n",
    "            self.best = '03:four of a kind'\n",
    "        elif self.full_house:\n",
    "            self.best = '04:full house'\n",
    "        elif self.flush:\n",
    "            self.best = '05:flush'\n",
    "        elif self.straight:\n",
    "            self.best = '06:straight'\n",
    "        elif self.three:\n",
    "            self.best = '07:three of a kind'\n",
    "        elif self.two_pair:\n",
    "            self.best = '08:two pair'\n",
    "        elif self.pair:\n",
    "            self.best = '09:pair'\n",
    "        else:\n",
    "            self.best = '10:no pair'\n",
    "        \n",
    "\n",
    "def compareTwoStrings(str1, str2):\n",
    "    answer = \"\"\n",
    "    if len(str1) == len(str2):\n",
    "        if str1==str2:\n",
    "            return str1\n",
    "        else:\n",
    "            longer=str1\n",
    "            shorter=str2\n",
    "    elif (len(str1) == 0 or len(str2) == 0):\n",
    "        return \"\"\n",
    "    elif len(str1)>len(str2):\n",
    "        longer=str1\n",
    "        shorter=str2\n",
    "    else:\n",
    "        longer=str2\n",
    "        shorter=str1\n",
    "    matrix = numpy.zeros((len(shorter), len(longer)))\n",
    "    for i in range(len(shorter)):\n",
    "        for j in range(len(longer)):               \n",
    "            if shorter[i]== longer[j]:\n",
    "                matrix[i][j]=1\n",
    "    longest=0\n",
    "    start=[-1,-1]\n",
    "    end=[-1,-1]    \n",
    "    for i in range(len(shorter)-1, -1, -1):\n",
    "        for j in range(len(longer)):\n",
    "            count=0\n",
    "            begin = [i,j]\n",
    "            while matrix[i][j]==1:\n",
    "                finish=[i,j]\n",
    "                count=count+1 \n",
    "                if j==len(longer)-1 or i==len(shorter)-1:\n",
    "                    break\n",
    "                else:\n",
    "                    j=j+1\n",
    "                    i=i+1\n",
    "            i = i-count\n",
    "            if count>longest:\n",
    "                longest=count\n",
    "                start=begin\n",
    "                end=finish\n",
    "                break\n",
    "    answer=shorter[int(start[0]): int(end[0])+1]\n",
    "    return answer"
   ]
  },
  {
   "cell_type": "code",
   "execution_count": 308,
   "metadata": {
    "collapsed": false
   },
   "outputs": [
    {
     "data": {
      "text/plain": [
       "09:pair               0.43990\n",
       "08:two pair           0.23480\n",
       "10:no pair            0.17560\n",
       "07:three of a kind    0.05060\n",
       "06:straight           0.04180\n",
       "05:flush              0.03100\n",
       "04:full house         0.02455\n",
       "03:four of a kind     0.00150\n",
       "02:straight flush     0.00025\n",
       "Name: best, dtype: float64"
      ]
     },
     "execution_count": 308,
     "metadata": {},
     "output_type": "execute_result"
    }
   ],
   "source": [
    "\n",
    "hands = []\n",
    "for i in range(20000):\n",
    "    d = Deck()\n",
    "    h = Hand()\n",
    "    h.add_cards(deck=d,n=7)\n",
    "    h.evaluate()\n",
    "    hands.append({'flush':h.flush,\n",
    "                  'straight':h.straight,\n",
    "                  'straight_flush':h.straight_flush,\n",
    "                  'royal_flush':h.royal_flush,\n",
    "                  'full_house':h.full_house,\n",
    "                  'pair':h.pair,\n",
    "                  'two_pair':h.two_pair,\n",
    "                  'three_of_a_kind':h.three,\n",
    "                  'four_of_a_kind':h.four,\n",
    "                  'best':h.best,\n",
    "                  'cards':h.cards\n",
    "                 })\n",
    "\n",
    "df = pd.DataFrame(hands)\n",
    "df['best'].value_counts()/float(len(df))\n",
    "#df.astype(float).describe().ix['mean'].sort(inplace=False)"
   ]
  },
  {
   "cell_type": "code",
   "execution_count": null,
   "metadata": {
    "collapsed": false
   },
   "outputs": [],
   "source": [
    "print([row for row in df[df['best'] == 'straightflush']['cards']])"
   ]
  },
  {
   "cell_type": "code",
   "execution_count": 312,
   "metadata": {
    "collapsed": false
   },
   "outputs": [
    {
     "data": {
      "text/plain": [
       "'02:straight flush'"
      ]
     },
     "execution_count": 312,
     "metadata": {},
     "output_type": "execute_result"
    }
   ],
   "source": [
    "h = Hand()\n",
    "h.add_cards([Card('S','02'),Card('H','02'),Card('D','03'),Card('S','03'),Card('S','04'), Card('S','05'),Card('S','06')])\n",
    "h.evaluate()\n",
    "h.best"
   ]
  },
  {
   "cell_type": "code",
   "execution_count": 198,
   "metadata": {
    "collapsed": false
   },
   "outputs": [],
   "source": [
    "d = Deck()\n",
    "d.shuffle()"
   ]
  },
  {
   "cell_type": "code",
   "execution_count": 203,
   "metadata": {
    "collapsed": false
   },
   "outputs": [
    {
     "data": {
      "text/plain": [
       "[{'suit': 'H', 'value': '02'},\n",
       " {'suit': 'S', 'value': '11'},\n",
       " {'suit': 'C', 'value': '01'},\n",
       " {'suit': 'H', 'value': '05'},\n",
       " {'suit': 'S', 'value': '09'},\n",
       " {'suit': 'C', 'value': '07'},\n",
       " {'suit': 'H', 'value': '09'}]"
      ]
     },
     "execution_count": 203,
     "metadata": {},
     "output_type": "execute_result"
    }
   ],
   "source": [
    "h = Hand(d)\n",
    "h.add_cards(d,7)\n",
    "h.cards"
   ]
  },
  {
   "cell_type": "code",
   "execution_count": 205,
   "metadata": {
    "collapsed": false
   },
   "outputs": [],
   "source": [
    "h.evaluate()"
   ]
  },
  {
   "cell_type": "code",
   "execution_count": 153,
   "metadata": {
    "collapsed": false
   },
   "outputs": [],
   "source": [
    "h.set_multiples()"
   ]
  },
  {
   "cell_type": "code",
   "execution_count": 154,
   "metadata": {
    "collapsed": false
   },
   "outputs": [
    {
     "data": {
      "text/plain": [
       "{2: '02', 4: '03'}"
      ]
     },
     "execution_count": 154,
     "metadata": {},
     "output_type": "execute_result"
    }
   ],
   "source": [
    "h.multiples"
   ]
  },
  {
   "cell_type": "code",
   "execution_count": 155,
   "metadata": {
    "collapsed": false
   },
   "outputs": [
    {
     "data": {
      "text/plain": [
       "{2: '02', 4: '03'}"
      ]
     },
     "execution_count": 155,
     "metadata": {},
     "output_type": "execute_result"
    }
   ],
   "source": [
    "h.multiples"
   ]
  },
  {
   "cell_type": "code",
   "execution_count": 159,
   "metadata": {
    "collapsed": false
   },
   "outputs": [
    {
     "data": {
      "text/plain": [
       "False"
      ]
     },
     "execution_count": 159,
     "metadata": {},
     "output_type": "execute_result"
    }
   ],
   "source": [
    "h.set_full_house()\n",
    "h.full_house"
   ]
  },
  {
   "cell_type": "code",
   "execution_count": 160,
   "metadata": {
    "collapsed": false
   },
   "outputs": [
    {
     "data": {
      "text/plain": [
       "True"
      ]
     },
     "execution_count": 160,
     "metadata": {},
     "output_type": "execute_result"
    }
   ],
   "source": [
    "h.set_flush()\n",
    "h.flush"
   ]
  },
  {
   "cell_type": "code",
   "execution_count": 131,
   "metadata": {
    "collapsed": false
   },
   "outputs": [],
   "source": [
    "l = list(set([card.value for card in h.cards]))\n",
    "l = sorted(l)"
   ]
  },
  {
   "cell_type": "code",
   "execution_count": 161,
   "metadata": {
    "collapsed": false
   },
   "outputs": [
    {
     "data": {
      "text/plain": [
       "True"
      ]
     },
     "execution_count": 161,
     "metadata": {},
     "output_type": "execute_result"
    }
   ],
   "source": [
    "h.set_straight()\n",
    "h.straight"
   ]
  },
  {
   "cell_type": "code",
   "execution_count": 163,
   "metadata": {
    "collapsed": false
   },
   "outputs": [
    {
     "data": {
      "text/plain": [
       "True"
      ]
     },
     "execution_count": 163,
     "metadata": {},
     "output_type": "execute_result"
    }
   ],
   "source": [
    "h.set_straight_flush()\n",
    "h.straight_flush"
   ]
  },
  {
   "cell_type": "code",
   "execution_count": 123,
   "metadata": {
    "collapsed": false
   },
   "outputs": [
    {
     "data": {
      "text/plain": [
       "'0203040506'"
      ]
     },
     "execution_count": 123,
     "metadata": {},
     "output_type": "execute_result"
    }
   ],
   "source": [
    "\n",
    "\n",
    "compareTwoStrings(s, straight_string)"
   ]
  },
  {
   "cell_type": "code",
   "execution_count": 103,
   "metadata": {
    "collapsed": false
   },
   "outputs": [
    {
     "data": {
      "text/plain": [
       "[{'suit': 'C', 'value': '02'},\n",
       " {'suit': 'H', 'value': '02'},\n",
       " {'suit': 'C', 'value': '03'},\n",
       " {'suit': 'S', 'value': '04'},\n",
       " {'suit': 'D', 'value': '05'},\n",
       " {'suit': 'H', 'value': '06'}]"
      ]
     },
     "execution_count": 103,
     "metadata": {},
     "output_type": "execute_result"
    }
   ],
   "source": [
    "h.cards"
   ]
  },
  {
   "cell_type": "code",
   "execution_count": 31,
   "metadata": {
    "collapsed": false
   },
   "outputs": [
    {
     "data": {
      "text/plain": [
       "(array([  2037.,   6010.,  10050.,  13837.,  17925.,  17963.,  14033.,\n",
       "         10154.,   5974.,   2017.]),\n",
       " array([  1. ,   5.9,  10.8,  15.7,  20.6,  25.5,  30.4,  35.3,  40.2,\n",
       "         45.1,  50. ]),\n",
       " <a list of 10 Patch objects>)"
      ]
     },
     "execution_count": 31,
     "metadata": {},
     "output_type": "execute_result"
    },
    {
     "data": {
      "image/png": "[encoded data removed]",
      "text/plain": [
       "<matplotlib.figure.Figure at 0x110292a58>"
      ]
     },
     "metadata": {},
     "output_type": "display_data"
    }
   ],
   "source": [
    "nums = []\n",
    "for n in range(100000):\n",
    "    nums.append(int(random.triangular(1,51)))\n",
    "    \n",
    "\n",
    "from collections import Counter\n",
    "import matplotlib.pyplot as plt\n",
    "%matplotlib inline\n",
    "plt.hist(nums)"
   ]
  },
  {
   "cell_type": "code",
   "execution_count": null,
   "metadata": {
    "collapsed": true
   },
   "outputs": [],
   "source": []
  }
 ],
 "metadata": {
  "kernelspec": {
   "display_name": "Python 3",
   "language": "python",
   "name": "python3"
  },
  "language_info": {
   "codemirror_mode": {
    "name": "ipython",
    "version": 3
   },
   "file_extension": ".py",
   "mimetype": "text/x-python",
   "name": "python",
   "nbconvert_exporter": "python",
   "pygments_lexer": "ipython3",
   "version": "3.5.1"
  }
 },
 "nbformat": 4,
 "nbformat_minor": 0
}
