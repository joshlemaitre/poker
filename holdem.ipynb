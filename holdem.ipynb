{
 "cells": [
  {
   "cell_type": "code",
   "execution_count": 1,
   "metadata": {
    "collapsed": true
   },
   "outputs": [],
   "source": [
    "from poker import *"
   ]
  },
  {
   "cell_type": "code",
   "execution_count": 204,
   "metadata": {
    "collapsed": false
   },
   "outputs": [
    {
     "data": {
      "text/plain": [
       "09:pair               0.43560\n",
       "08:two pair           0.23915\n",
       "10:no pair            0.17445\n",
       "07:three of a kind    0.04610\n",
       "06:straight           0.04560\n",
       "05:flush              0.03020\n",
       "04:full house         0.02665\n",
       "03:four of a kind     0.00180\n",
       "02:straight flush     0.00040\n",
       "01:royal flush        0.00005\n",
       "Name: best, dtype: float64"
      ]
     },
     "execution_count": 204,
     "metadata": {},
     "output_type": "execute_result"
    }
   ],
   "source": [
    "hands = []\n",
    "for i in range(20000):\n",
    "    d = Deck()\n",
    "    h = Hand()\n",
    "    h.add_cards(deck=d,n=7)\n",
    "    h.evaluate()\n",
    "    hands.append({'flush':h.flush,\n",
    "                  'straight':h.straight,\n",
    "                  'straight_flush':h.straight_flush,\n",
    "                  'royal_flush':h.royal_flush,\n",
    "                  'full_house':h.full_house,\n",
    "                  'pair':h.pair,\n",
    "                  'two_pair':h.two_pair,\n",
    "                  'three_of_a_kind':h.three,\n",
    "                  'four_of_a_kind':h.four,\n",
    "                  'best':h.best,\n",
    "                  'cards':h.cards\n",
    "                 })\n",
    "\n",
    "df = pd.DataFrame(hands)\n",
    "df['best'].value_counts()/float(len(df))\n",
    "#df.astype(float).describe().ix['mean'].sort(inplace=False)"
   ]
  },
  {
   "cell_type": "code",
   "execution_count": 205,
   "metadata": {
    "collapsed": false
   },
   "outputs": [
    {
     "data": {
      "text/plain": [
       "08:two pair           0.4006\n",
       "09:pair               0.3600\n",
       "07:three of a kind    0.1169\n",
       "04:full house         0.0823\n",
       "05:flush              0.0190\n",
       "06:straight           0.0118\n",
       "03:four of a kind     0.0094\n",
       "dtype: float64"
      ]
     },
     "execution_count": 205,
     "metadata": {},
     "output_type": "execute_result"
    }
   ],
   "source": [
    "bests = []\n",
    "for i in range(10000):\n",
    "    cards = [Card('S','13'),Card('D','13')]\n",
    "    d = Deck()\n",
    "    h = Hand()\n",
    "    d.deal(cards=cards)\n",
    "    h.add_cards(cards=cards)\n",
    "    h.add_cards(n=5, deck=d)\n",
    "    h.evaluate()\n",
    "    bests.append(h.best)\n",
    "\n",
    "pd.Series(bests).value_counts()/10000.00"
   ]
  },
  {
   "cell_type": "code",
   "execution_count": 6,
   "metadata": {
    "collapsed": false
   },
   "outputs": [],
   "source": [
    "l = []\n",
    "for i in range(2000):\n",
    "    n = 2\n",
    "    d = Deck()\n",
    "    d.shuffle()\n",
    "    d.cut()\n",
    "\n",
    "    players = player_list(n)\n",
    "    t = Holdem(deck=d, player_list = players)\n",
    "    t.get_deal()\n",
    "    t.get_flop()\n",
    "    t.get_turn()\n",
    "    t.get_river()\n",
    "    l.append(min([hand[0] for hand in t.evaluate()['hands']]))"
   ]
  },
  {
   "cell_type": "code",
   "execution_count": 7,
   "metadata": {
    "collapsed": false
   },
   "outputs": [
    {
     "data": {
      "text/plain": [
       "09:pair               0.3775\n",
       "08:two pair           0.3155\n",
       "06:straight           0.0830\n",
       "10:no pair            0.0640\n",
       "07:three of a kind    0.0600\n",
       "05:flush              0.0515\n",
       "04:full house         0.0445\n",
       "03:four of a kind     0.0035\n",
       "02:straight flush     0.0005\n",
       "dtype: float64"
      ]
     },
     "execution_count": 7,
     "metadata": {},
     "output_type": "execute_result"
    }
   ],
   "source": [
    "pd.Series(l).value_counts()/len(l)"
   ]
  },
  {
   "cell_type": "code",
   "execution_count": 182,
   "metadata": {
    "collapsed": false
   },
   "outputs": [],
   "source": [
    "players = player_list(3)\n",
    "players"
   ]
  },
  {
   "cell_type": "code",
   "execution_count": 168,
   "metadata": {
    "collapsed": false
   },
   "outputs": [
    {
     "data": {
      "text/plain": [
       "[{'suit': 'H', 'value': '03'},\n",
       " {'suit': 'H', 'value': '12'},\n",
       " {'suit': 'S', 'value': '06'},\n",
       " {'suit': 'H', 'value': '08'},\n",
       " {'suit': 'D', 'value': '09'}]"
      ]
     },
     "execution_count": 168,
     "metadata": {},
     "output_type": "execute_result"
    }
   ],
   "source": [
    "t.community"
   ]
  },
  {
   "cell_type": "code",
   "execution_count": 149,
   "metadata": {
    "collapsed": false
   },
   "outputs": [
    {
     "data": {
      "text/plain": [
       "[{'suit': 'D', 'value': '02'}, {'suit': 'S', 'value': '13'}]"
      ]
     },
     "execution_count": 149,
     "metadata": {},
     "output_type": "execute_result"
    }
   ],
   "source": [
    "players[1].hand.cards"
   ]
  },
  {
   "cell_type": "code",
   "execution_count": 126,
   "metadata": {
    "collapsed": false
   },
   "outputs": [
    {
     "data": {
      "text/plain": [
       "[[{'suit': 'H', 'value': '13'}, {'suit': 'S', 'value': '09'}],\n",
       " [{'suit': 'H', 'value': '03'}, {'suit': 'C', 'value': '04'}]]"
      ]
     },
     "execution_count": 126,
     "metadata": {},
     "output_type": "execute_result"
    }
   ],
   "source": [
    "[player.hand.cards for player in t.players]"
   ]
  },
  {
   "cell_type": "code",
   "execution_count": 160,
   "metadata": {
    "collapsed": false
   },
   "outputs": [
    {
     "data": {
      "text/plain": [
       "['08:two pair', '08:two pair']"
      ]
     },
     "execution_count": 160,
     "metadata": {},
     "output_type": "execute_result"
    }
   ],
   "source": [
    "[player.hand.best for player in players]"
   ]
  },
  {
   "cell_type": "code",
   "execution_count": 8,
   "metadata": {
    "collapsed": false
   },
   "outputs": [
    {
     "data": {
      "text/plain": [
       "'0102030'"
      ]
     },
     "execution_count": 8,
     "metadata": {},
     "output_type": "execute_result"
    }
   ],
   "source": [
    "def long_substr(data):\n",
    "    substr = ''\n",
    "    if len(data) > 1 and len(data[0]) > 0:\n",
    "        for i in range(len(data[0])):\n",
    "            for j in range(len(data[0])-i+1):\n",
    "                if j > len(substr) and is_substr(data[0][i:i+j], data):\n",
    "                    substr = data[0][i:i+j]\n",
    "    return substr\n",
    "\n",
    "def is_substr(find, data):\n",
    "    if len(data) < 1 and len(find) < 1:\n",
    "        return False\n",
    "    for i in range(len(data)):\n",
    "        if find not in data[i]:\n",
    "            return False\n",
    "    return True\n",
    "\n",
    "data = ['0102030405060708091011121301','010203080910']\n",
    "long_substr(data)"
   ]
  },
  {
   "cell_type": "code",
   "execution_count": null,
   "metadata": {
    "collapsed": true
   },
   "outputs": [],
   "source": []
  }
 ],
 "metadata": {
  "kernelspec": {
   "display_name": "Python 2",
   "language": "python",
   "name": "python2"
  },
  "language_info": {
   "codemirror_mode": {
    "name": "ipython",
    "version": 2
   },
   "file_extension": ".py",
   "mimetype": "text/x-python",
   "name": "python",
   "nbconvert_exporter": "python",
   "pygments_lexer": "ipython2",
   "version": "2.7.11"
  }
 },
 "nbformat": 4,
 "nbformat_minor": 0
}
